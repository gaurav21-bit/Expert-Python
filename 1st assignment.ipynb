{
 "cells": [
  {
   "cell_type": "markdown",
   "id": "6532211c-6447-47c4-aada-785e392ebcb1",
   "metadata": {},
   "source": [
    "# Create an ElectricCar class that inherits from the Car class and includes an additional attribute, battery_size."
   ]
  },
  {
   "cell_type": "code",
   "execution_count": 81,
   "id": "45d63e8a-adfe-4d3e-b67c-e5cbdfb4787c",
   "metadata": {},
   "outputs": [
    {
     "name": "stdout",
     "output_type": "stream",
     "text": [
      "Fortuner Toyota 80KW\n"
     ]
    }
   ],
   "source": [
    "class car:\n",
    "    def __init__(self, model,brand):\n",
    "        self.model = model\n",
    "        self.brand = brand\n",
    "class type(car):\n",
    "    def __init__(self,model,brand,battery_size):\n",
    "        super().__init__(model,brand)\n",
    "        self.battery_size=battery_size\n",
    "car1=type(\"Fortuner\",\"Toyota\",\"80KW\")\n",
    "print(car1.model,car1.brand,car1.battery_size)"
   ]
  },
  {
   "cell_type": "code",
   "execution_count": 83,
   "id": "44a285d1-33bf-496f-835b-ae3009ad4ceb",
   "metadata": {},
   "outputs": [
    {
     "name": "stdout",
     "output_type": "stream",
     "text": [
      "Toyots is Fortuner brand and its battery size is=>87KW\n",
      "BMW is Bmwx1 brand and its battery size is=>34KW\n",
      "Audi is Audia4 brand and its battery size is=>87KW\n",
      "Ford is Mustang brand and its battery size is=>87KW\n",
      "Maruti Suzuki is Swift brand and its battery size is=>87KW\n",
      "Maruti Suziki is Alto brand and its battery size is=>87KW\n"
     ]
    }
   ],
   "source": [
    "class car:\n",
    "    def __init__(self, model,brand):\n",
    "        self.model = model\n",
    "        self.brand = brand\n",
    "class type(car):\n",
    "    def __init__(self,model,brand,battery_size):\n",
    "        super().__init__(model,brand)\n",
    "        self.battery_size=battery_size\n",
    "    def info(self):\n",
    "        print(f'{self.brand} is {self.model} brand and its battery size is=>{self.battery_size}')\n",
    "a = type(\"Fortuner\",\"Toyots\",\"87KW\" )\n",
    "b = type(\"Bmwx1\", \"BMW\",\"34KW\")\n",
    "c = type(\"Audia4\",\"Audi\",\"87KW\")\n",
    "d = type(\"Mustang\",\"Ford\",\"87KW\")\n",
    "e = type(\"Swift\",\"Maruti Suzuki\",\"87KW\")\n",
    "f = type(\"Alto\",\"Maruti Suziki\",\"87KW\")\n",
    "a.info()\n",
    "b.info()\n",
    "c.info()\n",
    "d.info()\n",
    "e.info()\n",
    "f.info()"
   ]
  },
  {
   "cell_type": "markdown",
   "id": "93995faa-af80-4ae0-b6c9-3733bbd9dba9",
   "metadata": {},
   "source": [
    "# Create a Laptop class that inherits from a Computer class and includes an additional attribute battery_life"
   ]
  },
  {
   "cell_type": "code",
   "execution_count": 2,
   "id": "35299e8a-e91f-40ba-b45a-86fb25b146d9",
   "metadata": {},
   "outputs": [
    {
     "name": "stdout",
     "output_type": "stream",
     "text": [
      "Lenovo H-type 6hours\n"
     ]
    }
   ],
   "source": [
    "class laptop:\n",
    "    def __init__(self,brand,proccessor):\n",
    "        self.brand=brand\n",
    "        self.proccessor=proccessor\n",
    "class battery(laptop):\n",
    "    def __init__(self,brand,proccessor,battery_life):\n",
    "        super().__init__(brand,proccessor)\n",
    "        self.battery_life=battery_life\n",
    "s1=battery(\"Lenovo\",\"H-type\",\"6hours\")\n",
    "print(s1.brand,s1.proccessor,s1.battery_life)"
   ]
  },
  {
   "cell_type": "code",
   "execution_count": 27,
   "id": "a528728d",
   "metadata": {},
   "outputs": [
    {
     "name": "stdout",
     "output_type": "stream",
     "text": [
      "Hp proccessor is U-type and it's battery life is 6.5hours\n",
      "Lenovo proccessor is H-type and it's battery life is 6hours\n"
     ]
    }
   ],
   "source": [
    "class laptop:\n",
    "    def __init__(self,brand,proccessor):\n",
    "        self.brand=brand\n",
    "        self.proccessor=proccessor\n",
    "class battery(laptop):\n",
    "    def __init__(self,brand,proccessor,battery_life):\n",
    "        super().__init__(brand,proccessor)\n",
    "        self.battery_life=battery_life\n",
    "    def info(self):\n",
    "        print(f\"{self.brand} proccessor is {self.proccessor} and it's battery life is {self.battery_life}\")\n",
    "a=battery(\"Hp\",\"U-type\",\"6.5hours\")\n",
    "b=battery(\"Lenovo\",\"H-type\",\"6hours\")\n",
    "a.info()\n",
    "b.info()"
   ]
  },
  {
   "cell_type": "markdown",
   "id": "b56bcfdf-00be-4374-a6c0-ec168a8f70f4",
   "metadata": {},
   "source": [
    "# Define a Smartphone class and add another child class of your choice that inherits from an ElectronicDevice class and includes an additional attribute operating_system\n"
   ]
  },
  {
   "cell_type": "code",
   "execution_count": 5,
   "id": "d98f025a-3cf7-46bd-be88-00e8e0fe052b",
   "metadata": {},
   "outputs": [
    {
     "name": "stdout",
     "output_type": "stream",
     "text": [
      "vivo 64gb Android os\n"
     ]
    }
   ],
   "source": [
    "class smartphone():\n",
    "    def __init__(self,brand,storage):\n",
    "        self.brand=brand\n",
    "        self.storage=storage\n",
    "class device(smartphone):\n",
    "    def __init__(self,brand,storage,os):\n",
    "        super().__init__(brand,storage)\n",
    "        self.os=os\n",
    "x=device(\"vivo\",\"64gb\",\"Android os\")\n",
    "print(x.brand,x.storage,x.os)"
   ]
  },
  {
   "cell_type": "code",
   "execution_count": 21,
   "id": "a5ed8737",
   "metadata": {},
   "outputs": [
    {
     "name": "stdout",
     "output_type": "stream",
     "text": [
      "vivo mobile storage is 64gb it's operating system is Android os\n",
      "Samsung mobile storage is 256gb it's operating system is Android os\n",
      "Apple mobile storage is 128gb it's operating system is Ios\n"
     ]
    }
   ],
   "source": [
    "class smartphone():\n",
    "    def __init__(self,brand,storage):\n",
    "        self.brand=brand\n",
    "        self.storage=storage\n",
    "class device(smartphone):\n",
    "    def __init__(self,brand,storage,os):\n",
    "        super().__init__(brand,storage)\n",
    "        self.os=os\n",
    "    def info(self):\n",
    "        print(f\"{self.brand} mobile storage is {self.storage} it's operating system is {self.os}\")\n",
    "x=device(\"vivo\",\"64gb\",\"Android os\")\n",
    "y=device(\"Samsung\",\"256gb\",\"Android os\")\n",
    "z=device(\"Apple\",\"128gb\",\"Ios\")\n",
    "x.info()\n",
    "y.info()\n",
    "z.info()"
   ]
  },
  {
   "cell_type": "markdown",
   "id": "f1fc1ef2-ed61-4cee-9fd2-bcb77c3c5a19",
   "metadata": {},
   "source": [
    "# Define a Musician class and add another child class of your choice that extends an Artist class and includes an additional attribute instrument_played"
   ]
  },
  {
   "cell_type": "code",
   "execution_count": 5,
   "id": "b13de7d6-a624-463c-8b7f-d04266ac6fa8",
   "metadata": {},
   "outputs": [
    {
     "name": "stdout",
     "output_type": "stream",
     "text": [
      " Pt Shiv Kumar Sharma 34 Santoor\n",
      "Hari prashad chaurasiya 54 Flute\n"
     ]
    }
   ],
   "source": [
    "class musician():\n",
    "    def __init__(self,name,age):\n",
    "        self.name=name\n",
    "        self.age=age\n",
    "class artist(musician):\n",
    "    def __init__(self,name,age,play):\n",
    "        super().__init__(name,age)\n",
    "        self.play=play\n",
    "x= artist(\" Pt Shiv Kumar Sharma\",34,\"Santoor\")\n",
    "print(x.name,x.age,x.play)\n",
    "x2= artist(\"Hari prashad chaurasiya\",54,\"Flute\")\n",
    "print(x2.name,x2.age,x2.play)"
   ]
  },
  {
   "cell_type": "code",
   "execution_count": 5,
   "id": "01a46b36-3231-468e-be41-b2882fbd36d5",
   "metadata": {},
   "outputs": [
    {
     "name": "stdout",
     "output_type": "stream",
     "text": [
      " Pt Shiv Kumar Sharma 34 Santoor\n",
      "Hari prashad chaurasiya 54 Flute\n"
     ]
    }
   ],
   "source": [
    "class musician():\n",
    "    def __init__(self,name,age):\n",
    "        self.name=name\n",
    "        self.age=age\n",
    "class artist(musician):\n",
    "    def __init__(self,name,age,play):\n",
    "        super().__init__(name,age)\n",
    "        self.play=play\n",
    "x= artist(\" Pt Shiv Kumar Sharma\",34,\"Santoor\")\n",
    "print(x.name,x.age,x.play)\n",
    "x2= artist(\"Hari prashad chaurasiya\",54,\"Flute\")\n",
    "print(x2.name,x2.age,x2.play)"
   ]
  },
  {
   "cell_type": "markdown",
   "id": "bad401eb-0cfa-4998-9ac6-8a6138b972a2",
   "metadata": {},
   "source": [
    "# Implement a FictionBook class, add another child class of your choice that inherits from a Book class and add an attribute genre"
   ]
  },
  {
   "cell_type": "code",
   "execution_count": 9,
   "id": "3e6e1950-c5cc-4fc3-b77c-61096ee6d665",
   "metadata": {},
   "outputs": [
    {
     "name": "stdout",
     "output_type": "stream",
     "text": [
      "SPY×FAMILY1 Tatsuya Endo slice-of-life\n"
     ]
    }
   ],
   "source": [
    "class fictionbook:\n",
    "    def __init__(self,writer,name):\n",
    "        self.writer=writer\n",
    "        self.name=name\n",
    "class book(fictionbook):\n",
    "    def __init__(self,writer,name,genre):\n",
    "        super().__init__(writer,name)\n",
    "        self.genre=genre\n",
    "s1=book(\"SPY×FAMILY1\",\"Tatsuya Endo\",\"slice-of-life\")\n",
    "print(s1.writer,s1.name,s1.genre)"
   ]
  },
  {
   "cell_type": "code",
   "execution_count": 7,
   "id": "5e8bd589-a898-4516-9e4c-3f5474795b09",
   "metadata": {},
   "outputs": [
    {
     "name": "stdout",
     "output_type": "stream",
     "text": [
      "5 Centim:eters per Second writer is this Makoto Shinkai,Yukiko Seike romance\n",
      "SPYXFAMILY writer is this Tatsuya Endo slice-of-life\n"
     ]
    }
   ],
   "source": [
    "class fictionbook:\n",
    "    def __init__(self,writer,name):\n",
    "        self.writer=writer\n",
    "        self.name=name\n",
    "class book(fictionbook):\n",
    "    def __init__(self,writer,name,genre):\n",
    "        super().__init__(writer,name)\n",
    "        self.genre=genre\n",
    "    def info(self):\n",
    "        print(f\"{self.writer} writer is this {self.name} {self.genre}\")\n",
    "s=book(\"5 Centim:eters per Second\",\"Makoto Shinkai,Yukiko Seike\",\"romance\")\n",
    "x=book(\"SPYXFAMILY\",\"Tatsuya Endo\",\"slice-of-life\")\n",
    "s.info()\n",
    "x.info()"
   ]
  },
  {
   "cell_type": "code",
   "execution_count": 3,
   "id": "1190a5ec-e518-4b52-a6d7-f50a1bcc7fe9",
   "metadata": {},
   "outputs": [
    {
     "name": "stdout",
     "output_type": "stream",
     "text": [
      "Hp proccessor is U-type and it's battery life is 6.5hours\n",
      "Lenovo proccessor is H-type and it's battery life is 6hours\n"
     ]
    }
   ],
   "source": [
    "class laptop:\n",
    "    def __init__(self,brand,proccessor):\n",
    "        self.brand=brand\n",
    "        self.proccessor=proccessor\n",
    "class battery(laptop):\n",
    "    def __init__(self,brand,proccessor,battery_life):\n",
    "        super().__init__(brand,proccessor)\n",
    "        self.battery_life=battery_life\n",
    "    def info(self):\n",
    "        print(f\"{self.brand} proccessor is {self.proccessor} and it's battery life is {self.battery_life}\")\n",
    "a=battery(\"Hp\",\"U-type\",\"6.5hours\")\n",
    "b=battery(\"Lenovo\",\"H-type\",\"6hours\")\n",
    "a.info()\n",
    "b.info()"
   ]
  },
  {
   "cell_type": "markdown",
   "id": "4bb3db3b-3fb6-4007-a0dc-c8d89ce8aa4b",
   "metadata": {},
   "source": [
    "# Create a student class that takes the name & marks of 3 subjects as arguments in the constructor. Then create a method to print the average\r\n"
   ]
  },
  {
   "cell_type": "code",
   "execution_count": 56,
   "id": "c861db8c-3ef0-4844-af9c-58abd01333e8",
   "metadata": {},
   "outputs": [
    {
     "name": "stdout",
     "output_type": "stream",
     "text": [
      "Aman 87 34 56\n",
      "totalmarks=>177 and their avg is 59.0\n"
     ]
    }
   ],
   "source": [
    "class student:\n",
    "    def __init__(self,name,marks1,marks2,marks3):\n",
    "        self.name=name\n",
    "        self.marks1=marks1\n",
    "        self.marks2=marks2\n",
    "        self.marks3=marks3\n",
    "a1=student(\"Aman\",87,34,56)\n",
    "print(a1.name,a1.marks1,a1.marks2,a1.marks3)\n",
    "marks=a1.marks1+a1.marks2+a1.marks3\n",
    "avg=marks/3\n",
    "print(f\"totalmarks=>{marks} and their avg is {avg}\")"
   ]
  },
  {
   "cell_type": "code",
   "execution_count": 3,
   "id": "c32b084b-e87d-4b62-ae36-6c7d71476daf",
   "metadata": {},
   "outputs": [
    {
     "name": "stdout",
     "output_type": "stream",
     "text": [
      "total marks =>177 and it's average is 59.0\n"
     ]
    }
   ],
   "source": [
    "class student:\n",
    "    def __init__(self,name,marks1,marks2,marks3):\n",
    "        self.name=name\n",
    "        self.marks=[marks1,marks2,marks3]\n",
    "a1=student(\"Aman\",87,34,56)\n",
    "total=sum(a1.marks)\n",
    "length=len(a1.marks)\n",
    "average=total/length\n",
    "print(f\"total marks =>{total} and it's average is {average}\")"
   ]
  },
  {
   "cell_type": "code",
   "execution_count": 7,
   "id": "a806146c-9579-4428-bd73-1a671e832f41",
   "metadata": {},
   "outputs": [
    {
     "name": "stdout",
     "output_type": "stream",
     "text": [
      "total marks =>177 and it's average is 59.0\n"
     ]
    }
   ],
   "source": [
    "class student:\n",
    "    def __init__(self,name,marks1,marks2,marks3):\n",
    "        self.name=name\n",
    "        self.marks=[marks1,marks2,marks3]\n",
    "a1=student(\"Aman\",87,34,56)\n",
    "total=sum(a1.marks)\n",
    "length=len(a1.marks)\n",
    "average=total/length\n",
    "print(f\"total marks =>{total} and it's average is {average}\")"
   ]
  }
 ],
 "metadata": {
  "kernelspec": {
   "display_name": "Python 3 (ipykernel)",
   "language": "python",
   "name": "python3"
  },
  "language_info": {
   "codemirror_mode": {
    "name": "ipython",
    "version": 3
   },
   "file_extension": ".py",
   "mimetype": "text/x-python",
   "name": "python",
   "nbconvert_exporter": "python",
   "pygments_lexer": "ipython3",
   "version": "3.12.4"
  }
 },
 "nbformat": 4,
 "nbformat_minor": 5
}
